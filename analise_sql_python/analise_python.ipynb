{
  "nbformat": 4,
  "nbformat_minor": 0,
  "metadata": {
    "colab": {
      "provenance": [],
      "collapsed_sections": [
        "2yjkYYDKEkkR",
        "FXYGAf7hEkpB",
        "UzGbiDg9Ekrw",
        "m5mPKl5kEkuY",
        "cSxglAauEkw0",
        "nyCNh_lKE0o8",
        "LWEUIO4JE0r4",
        "vQl0IYKBE0vv",
        "fj2B6VT5E00h",
        "AW0TVTOdE030"
      ]
    },
    "kernelspec": {
      "name": "python3",
      "display_name": "Python 3"
    },
    "language_info": {
      "name": "python"
    }
  },
  "cells": [
    {
      "cell_type": "code",
      "source": [
        "# Instalando Biblioteca\n",
        "\n",
        "pip install basedosdados"
      ],
      "metadata": {
        "colab": {
          "base_uri": "https://localhost:8080/"
        },
        "id": "dCso6-MRHEpq",
        "outputId": "9a9b0368-a0d1-4bac-e4b5-6466824f2010"
      },
      "execution_count": null,
      "outputs": [
        {
          "output_type": "stream",
          "name": "stdout",
          "text": [
            "Requirement already satisfied: basedosdados in /usr/local/lib/python3.10/dist-packages (2.0.0b16)\n",
            "Requirement already satisfied: google-api-python-client<3.0,>=2.86 in /usr/local/lib/python3.10/dist-packages (from basedosdados) (2.137.0)\n",
            "Requirement already satisfied: google-cloud-bigquery<4.0,>=3.10 in /usr/local/lib/python3.10/dist-packages (from basedosdados) (3.25.0)\n",
            "Requirement already satisfied: google-cloud-bigquery-connection<2.0,>=1.12 in /usr/local/lib/python3.10/dist-packages (from basedosdados) (1.15.5)\n",
            "Requirement already satisfied: google-cloud-bigquery-storage<3.0,>=2.19 in /usr/local/lib/python3.10/dist-packages (from basedosdados) (2.25.0)\n",
            "Requirement already satisfied: google-cloud-storage<3.0,>=2.9 in /usr/local/lib/python3.10/dist-packages (from basedosdados) (2.18.2)\n",
            "Requirement already satisfied: loguru==0.7.0 in /usr/local/lib/python3.10/dist-packages (from basedosdados) (0.7.0)\n",
            "Requirement already satisfied: pandas<3.0,>=2.0 in /usr/local/lib/python3.10/dist-packages (from basedosdados) (2.1.4)\n",
            "Requirement already satisfied: pandas-gbq<0.20,>=0.19 in /usr/local/lib/python3.10/dist-packages (from basedosdados) (0.19.2)\n",
            "Requirement already satisfied: pydata-google-auth<2.0,>=1.8 in /usr/local/lib/python3.10/dist-packages (from basedosdados) (1.8.2)\n",
            "Requirement already satisfied: tomlkit<0.12,>=0.11 in /usr/local/lib/python3.10/dist-packages (from basedosdados) (0.11.8)\n",
            "Requirement already satisfied: tqdm<5,>=4 in /usr/local/lib/python3.10/dist-packages (from basedosdados) (4.66.5)\n",
            "Requirement already satisfied: httplib2<1.dev0,>=0.19.0 in /usr/local/lib/python3.10/dist-packages (from google-api-python-client<3.0,>=2.86->basedosdados) (0.22.0)\n",
            "Requirement already satisfied: google-auth!=2.24.0,!=2.25.0,<3.0.0.dev0,>=1.32.0 in /usr/local/lib/python3.10/dist-packages (from google-api-python-client<3.0,>=2.86->basedosdados) (2.27.0)\n",
            "Requirement already satisfied: google-auth-httplib2<1.0.0,>=0.2.0 in /usr/local/lib/python3.10/dist-packages (from google-api-python-client<3.0,>=2.86->basedosdados) (0.2.0)\n",
            "Requirement already satisfied: google-api-core!=2.0.*,!=2.1.*,!=2.2.*,!=2.3.0,<3.0.0.dev0,>=1.31.5 in /usr/local/lib/python3.10/dist-packages (from google-api-python-client<3.0,>=2.86->basedosdados) (2.19.1)\n",
            "Requirement already satisfied: uritemplate<5,>=3.0.1 in /usr/local/lib/python3.10/dist-packages (from google-api-python-client<3.0,>=2.86->basedosdados) (4.1.1)\n",
            "Requirement already satisfied: google-cloud-core<3.0.0dev,>=1.6.0 in /usr/local/lib/python3.10/dist-packages (from google-cloud-bigquery<4.0,>=3.10->basedosdados) (2.4.1)\n",
            "Requirement already satisfied: google-resumable-media<3.0dev,>=0.6.0 in /usr/local/lib/python3.10/dist-packages (from google-cloud-bigquery<4.0,>=3.10->basedosdados) (2.7.2)\n",
            "Requirement already satisfied: packaging>=20.0.0 in /usr/local/lib/python3.10/dist-packages (from google-cloud-bigquery<4.0,>=3.10->basedosdados) (24.1)\n",
            "Requirement already satisfied: python-dateutil<3.0dev,>=2.7.2 in /usr/local/lib/python3.10/dist-packages (from google-cloud-bigquery<4.0,>=3.10->basedosdados) (2.8.2)\n",
            "Requirement already satisfied: requests<3.0.0dev,>=2.21.0 in /usr/local/lib/python3.10/dist-packages (from google-cloud-bigquery<4.0,>=3.10->basedosdados) (2.32.3)\n",
            "Requirement already satisfied: proto-plus<2.0.0dev,>=1.22.3 in /usr/local/lib/python3.10/dist-packages (from google-cloud-bigquery-connection<2.0,>=1.12->basedosdados) (1.24.0)\n",
            "Requirement already satisfied: protobuf!=4.21.0,!=4.21.1,!=4.21.2,!=4.21.3,!=4.21.4,!=4.21.5,<6.0.0dev,>=3.20.2 in /usr/local/lib/python3.10/dist-packages (from google-cloud-bigquery-connection<2.0,>=1.12->basedosdados) (3.20.3)\n",
            "Requirement already satisfied: grpc-google-iam-v1<1.0.0dev,>=0.12.4 in /usr/local/lib/python3.10/dist-packages (from google-cloud-bigquery-connection<2.0,>=1.12->basedosdados) (0.13.1)\n",
            "Requirement already satisfied: google-crc32c<2.0dev,>=1.0 in /usr/local/lib/python3.10/dist-packages (from google-cloud-storage<3.0,>=2.9->basedosdados) (1.5.0)\n",
            "Requirement already satisfied: numpy<2,>=1.22.4 in /usr/local/lib/python3.10/dist-packages (from pandas<3.0,>=2.0->basedosdados) (1.26.4)\n",
            "Requirement already satisfied: pytz>=2020.1 in /usr/local/lib/python3.10/dist-packages (from pandas<3.0,>=2.0->basedosdados) (2024.1)\n",
            "Requirement already satisfied: tzdata>=2022.1 in /usr/local/lib/python3.10/dist-packages (from pandas<3.0,>=2.0->basedosdados) (2024.1)\n",
            "Requirement already satisfied: setuptools in /usr/local/lib/python3.10/dist-packages (from pandas-gbq<0.20,>=0.19->basedosdados) (71.0.4)\n",
            "Requirement already satisfied: db-dtypes<2.0.0,>=1.0.4 in /usr/local/lib/python3.10/dist-packages (from pandas-gbq<0.20,>=0.19->basedosdados) (1.3.0)\n",
            "Requirement already satisfied: pyarrow>=3.0.0 in /usr/local/lib/python3.10/dist-packages (from pandas-gbq<0.20,>=0.19->basedosdados) (14.0.2)\n",
            "Requirement already satisfied: google-auth-oauthlib>=0.7.0 in /usr/local/lib/python3.10/dist-packages (from pandas-gbq<0.20,>=0.19->basedosdados) (1.2.1)\n",
            "Requirement already satisfied: googleapis-common-protos<2.0.dev0,>=1.56.2 in /usr/local/lib/python3.10/dist-packages (from google-api-core!=2.0.*,!=2.1.*,!=2.2.*,!=2.3.0,<3.0.0.dev0,>=1.31.5->google-api-python-client<3.0,>=2.86->basedosdados) (1.63.2)\n",
            "Requirement already satisfied: grpcio<2.0dev,>=1.33.2 in /usr/local/lib/python3.10/dist-packages (from google-api-core[grpc]!=2.0.*,!=2.1.*,!=2.10.*,!=2.2.*,!=2.3.*,!=2.4.*,!=2.5.*,!=2.6.*,!=2.7.*,!=2.8.*,!=2.9.*,<3.0.0dev,>=1.34.1->google-cloud-bigquery<4.0,>=3.10->basedosdados) (1.64.1)\n",
            "Requirement already satisfied: grpcio-status<2.0.dev0,>=1.33.2 in /usr/local/lib/python3.10/dist-packages (from google-api-core[grpc]!=2.0.*,!=2.1.*,!=2.10.*,!=2.2.*,!=2.3.*,!=2.4.*,!=2.5.*,!=2.6.*,!=2.7.*,!=2.8.*,!=2.9.*,<3.0.0dev,>=1.34.1->google-cloud-bigquery<4.0,>=3.10->basedosdados) (1.48.2)\n",
            "Requirement already satisfied: cachetools<6.0,>=2.0.0 in /usr/local/lib/python3.10/dist-packages (from google-auth!=2.24.0,!=2.25.0,<3.0.0.dev0,>=1.32.0->google-api-python-client<3.0,>=2.86->basedosdados) (5.4.0)\n",
            "Requirement already satisfied: pyasn1-modules>=0.2.1 in /usr/local/lib/python3.10/dist-packages (from google-auth!=2.24.0,!=2.25.0,<3.0.0.dev0,>=1.32.0->google-api-python-client<3.0,>=2.86->basedosdados) (0.4.0)\n",
            "Requirement already satisfied: rsa<5,>=3.1.4 in /usr/local/lib/python3.10/dist-packages (from google-auth!=2.24.0,!=2.25.0,<3.0.0.dev0,>=1.32.0->google-api-python-client<3.0,>=2.86->basedosdados) (4.9)\n",
            "Requirement already satisfied: requests-oauthlib>=0.7.0 in /usr/local/lib/python3.10/dist-packages (from google-auth-oauthlib>=0.7.0->pandas-gbq<0.20,>=0.19->basedosdados) (1.3.1)\n",
            "Requirement already satisfied: pyparsing!=3.0.0,!=3.0.1,!=3.0.2,!=3.0.3,<4,>=2.4.2 in /usr/local/lib/python3.10/dist-packages (from httplib2<1.dev0,>=0.19.0->google-api-python-client<3.0,>=2.86->basedosdados) (3.1.2)\n",
            "Requirement already satisfied: six>=1.5 in /usr/local/lib/python3.10/dist-packages (from python-dateutil<3.0dev,>=2.7.2->google-cloud-bigquery<4.0,>=3.10->basedosdados) (1.16.0)\n",
            "Requirement already satisfied: charset-normalizer<4,>=2 in /usr/local/lib/python3.10/dist-packages (from requests<3.0.0dev,>=2.21.0->google-cloud-bigquery<4.0,>=3.10->basedosdados) (3.3.2)\n",
            "Requirement already satisfied: idna<4,>=2.5 in /usr/local/lib/python3.10/dist-packages (from requests<3.0.0dev,>=2.21.0->google-cloud-bigquery<4.0,>=3.10->basedosdados) (3.7)\n",
            "Requirement already satisfied: urllib3<3,>=1.21.1 in /usr/local/lib/python3.10/dist-packages (from requests<3.0.0dev,>=2.21.0->google-cloud-bigquery<4.0,>=3.10->basedosdados) (2.0.7)\n",
            "Requirement already satisfied: certifi>=2017.4.17 in /usr/local/lib/python3.10/dist-packages (from requests<3.0.0dev,>=2.21.0->google-cloud-bigquery<4.0,>=3.10->basedosdados) (2024.7.4)\n",
            "Requirement already satisfied: pyasn1<0.7.0,>=0.4.6 in /usr/local/lib/python3.10/dist-packages (from pyasn1-modules>=0.2.1->google-auth!=2.24.0,!=2.25.0,<3.0.0.dev0,>=1.32.0->google-api-python-client<3.0,>=2.86->basedosdados) (0.6.0)\n",
            "Requirement already satisfied: oauthlib>=3.0.0 in /usr/local/lib/python3.10/dist-packages (from requests-oauthlib>=0.7.0->google-auth-oauthlib>=0.7.0->pandas-gbq<0.20,>=0.19->basedosdados) (3.2.2)\n"
          ]
        }
      ]
    },
    {
      "cell_type": "code",
      "source": [
        "# Importando Bibliotecas\n",
        "\n",
        "import basedosdados as bd\n",
        "import pandas as pd"
      ],
      "metadata": {
        "id": "yZyGbSA6FMVl"
      },
      "execution_count": null,
      "outputs": []
    },
    {
      "cell_type": "markdown",
      "source": [
        "# Localização de chamados do 1746"
      ],
      "metadata": {
        "id": "mYkf7oIeEkfK"
      }
    },
    {
      "cell_type": "markdown",
      "source": [
        "Utilize a tabela de Chamados do 1746 e a tabela de Bairros do Rio de Janeiro para as perguntas de 1-5."
      ],
      "metadata": {
        "id": "_sJoAW5WEkho"
      }
    },
    {
      "cell_type": "markdown",
      "source": [
        "## 1. Quantos chamados foram abertos no dia 01/04/2023?\n"
      ],
      "metadata": {
        "id": "2yjkYYDKEkkR"
      }
    },
    {
      "cell_type": "code",
      "source": [
        "question1 = \"select count(distinct id_chamado) as quantidade_chamados from datario.adm_central_atendimento_1746.chamado where FORMAT_DATE('%d/%m/%Y', data_inicio) = '01/04/2023'\"\n",
        "df = bd.read_sql(question1, billing_project_id=\"root-micron-433123-t1\")\n",
        "print(df)"
      ],
      "metadata": {
        "colab": {
          "base_uri": "https://localhost:8080/"
        },
        "id": "-XAQN52OFFUI",
        "outputId": "95e7fd1c-bb59-41f4-af7b-3e27149bd711"
      },
      "execution_count": null,
      "outputs": [
        {
          "output_type": "stream",
          "name": "stdout",
          "text": [
            "Downloading: 100%|\u001b[32m██████████\u001b[0m|\n",
            "   quantidade_chamados\n",
            "0                 1756\n"
          ]
        }
      ]
    },
    {
      "cell_type": "markdown",
      "source": [
        "R: Foram abertos 1756 chamados neste dia\n"
      ],
      "metadata": {
        "id": "lZQpcf2KQbkq"
      }
    },
    {
      "cell_type": "markdown",
      "source": [
        "## 2. Qual o tipo de chamado que teve mais teve chamados abertos no dia 01/04/2023?"
      ],
      "metadata": {
        "id": "FXYGAf7hEkpB"
      }
    },
    {
      "cell_type": "code",
      "source": [
        "question2 = \"select tipo, count(tipo) as quantidade_tipo from datario.adm_central_atendimento_1746.chamado where FORMAT_DATE('%d/%m/%Y', data_inicio) = '01/04/2023' group by 1 order by 2 desc limit 1\"\n",
        "df = bd.read_sql(question2, billing_project_id=\"root-micron-433123-t1\")\n",
        "print(df)"
      ],
      "metadata": {
        "colab": {
          "base_uri": "https://localhost:8080/"
        },
        "id": "HJrvgRQbFGpZ",
        "outputId": "29879ee3-b1e6-486c-9f0f-efad130fa7ef"
      },
      "execution_count": null,
      "outputs": [
        {
          "output_type": "stream",
          "name": "stdout",
          "text": [
            "Downloading: 100%|\u001b[32m██████████\u001b[0m|\n",
            "                       tipo  quantidade_tipo\n",
            "0  Estacionamento irregular              366\n"
          ]
        }
      ]
    },
    {
      "cell_type": "markdown",
      "source": [
        "R: O tipo de chamado com mais chamados abertos neste dia foi 'Estacionamento irregular'\n"
      ],
      "metadata": {
        "id": "QWvn7PVCQpyf"
      }
    },
    {
      "cell_type": "markdown",
      "source": [
        "## 3. Quais os nomes dos 3 bairros que mais tiveram chamados abertos nesse dia?"
      ],
      "metadata": {
        "id": "UzGbiDg9Ekrw"
      }
    },
    {
      "cell_type": "code",
      "source": [
        "question3 = '''select\n",
        "    b.nome,\n",
        "    count(c.id_chamado) as quantidade_chamados,\n",
        "  from\n",
        "    datario.adm_central_atendimento_1746.chamado as c\n",
        "    inner join datario.dados_mestres.bairro as b\n",
        "    on c.id_bairro = b.id_bairro\n",
        "  where FORMAT_DATE('%d/%m/%Y', data_inicio) = '01/04/2023'\n",
        "  group by 1\n",
        "  order by 2 desc\n",
        "  limit 3'''\n",
        "df = bd.read_sql(question3, billing_project_id=\"root-micron-433123-t1\")\n",
        "print(df)"
      ],
      "metadata": {
        "colab": {
          "base_uri": "https://localhost:8080/"
        },
        "id": "YKO787hhFHGO",
        "outputId": "e9e44e63-b5b2-44a3-e336-861e1d70a0ce"
      },
      "execution_count": null,
      "outputs": [
        {
          "output_type": "stream",
          "name": "stdout",
          "text": [
            "Downloading: 100%|\u001b[32m██████████\u001b[0m|\n",
            "              nome  quantidade_chamados\n",
            "0     Campo Grande                  113\n",
            "1           Tijuca                   89\n",
            "2  Barra da Tijuca                   59\n"
          ]
        }
      ]
    },
    {
      "cell_type": "markdown",
      "source": [
        "R: Os bairros são: Campo Grande, Tijuca e Barra da Tijuca"
      ],
      "metadata": {
        "id": "QS-0Axf5QvXa"
      }
    },
    {
      "cell_type": "markdown",
      "source": [
        "## 4. Qual o nome da subprefeitura com mais chamados abertos nesse dia?"
      ],
      "metadata": {
        "id": "m5mPKl5kEkuY"
      }
    },
    {
      "cell_type": "code",
      "source": [
        "question4 = '''select\n",
        "    subprefeitura,\n",
        "    count(id_chamado) as quantidade_chamados,\n",
        "  from\n",
        "    datario.adm_central_atendimento_1746.chamado as c\n",
        "    inner join datario.dados_mestres.bairro as b\n",
        "    on c.id_bairro = b.id_bairro\n",
        "  where FORMAT_DATE('%d/%m/%Y', data_inicio) = '01/04/2023'\n",
        "  group by 1\n",
        "  order by 2 desc\n",
        "  limit 1'''\n",
        "df = bd.read_sql(question4, billing_project_id=\"root-micron-433123-t1\")\n",
        "print(df)"
      ],
      "metadata": {
        "colab": {
          "base_uri": "https://localhost:8080/"
        },
        "id": "Dd0wr6BVFID2",
        "outputId": "24f0ae33-7db0-49a9-f70f-4003dcbc486e"
      },
      "execution_count": null,
      "outputs": [
        {
          "output_type": "stream",
          "name": "stdout",
          "text": [
            "Downloading: 100%|\u001b[32m██████████\u001b[0m|\n",
            "  subprefeitura  quantidade_chamados\n",
            "0    Zona Norte                  510\n"
          ]
        }
      ]
    },
    {
      "cell_type": "markdown",
      "source": [
        "R: Zona Norte"
      ],
      "metadata": {
        "id": "x-TLGplcQ_xP"
      }
    },
    {
      "cell_type": "markdown",
      "source": [
        "## 5. Existe algum chamado aberto nesse dia que não foi associado a um bairro ou subprefeitura na tabela de bairros? Se sim, por que isso acontece?"
      ],
      "metadata": {
        "id": "cSxglAauEkw0"
      }
    },
    {
      "cell_type": "code",
      "source": [
        "question5 = '''select\n",
        "    count(id_chamado) as quantidade_chamados_sem_bairro\n",
        "  from\n",
        "    datario.adm_central_atendimento_1746.chamado as c\n",
        "    left join datario.dados_mestres.bairro as b\n",
        "    on c.id_bairro = b.id_bairro\n",
        "  where\n",
        "    b.id_bairro is null\n",
        "    and FORMAT_DATE('%d/%m/%Y', data_inicio) = '01/04/2023'\n",
        "    '''\n",
        "df = bd.read_sql(question5, billing_project_id=\"root-micron-433123-t1\")\n",
        "print(df)"
      ],
      "metadata": {
        "colab": {
          "base_uri": "https://localhost:8080/"
        },
        "id": "7YXl9CrSFIma",
        "outputId": "d636b3f9-7214-4dc3-ed2b-2c3b50da4fcf"
      },
      "execution_count": null,
      "outputs": [
        {
          "output_type": "stream",
          "name": "stdout",
          "text": [
            "Downloading: 100%|\u001b[32m██████████\u001b[0m|\n",
            "   quantidade_chamados_sem_bairro\n",
            "0                              73\n"
          ]
        }
      ]
    },
    {
      "cell_type": "markdown",
      "source": [
        "R: Existem 73 chamados abertos neste dia que não foram associados a um bairro ou subprefeitura. É comum casos de dados faltantes em datasets, ou até mesmo a tabela pode não conter todos os bairros possíveis\n"
      ],
      "metadata": {
        "id": "HtfmNUsnRIZR"
      }
    },
    {
      "cell_type": "markdown",
      "source": [
        "# Chamados do 1746 em grandes eventos"
      ],
      "metadata": {
        "id": "k-C9hVVQEkzh"
      }
    },
    {
      "cell_type": "markdown",
      "source": [
        "Utilize a tabela de Chamados do 1746 e a tabela de Ocupação Hoteleira em Grandes Eventos no Rio para as perguntas de 6-10. Para todas as perguntas considere o subtipo de chamado \"Perturbação do sossego\".\n"
      ],
      "metadata": {
        "id": "HBJwO07_E0fd"
      }
    },
    {
      "cell_type": "markdown",
      "source": [
        "## 6. Quantos chamados com o subtipo \"Perturbação do sossego\" foram abertos desde 01/01/2022 até 31/12/2023 (incluindo extremidades)?"
      ],
      "metadata": {
        "id": "nyCNh_lKE0o8"
      }
    },
    {
      "cell_type": "code",
      "source": [
        "question6 = '''select count(id_chamado) as quantidade_chamado from datario.adm_central_atendimento_1746.chamado where data_inicio BETWEEN '2022-01-01' AND '2023-12-31' and subtipo = 'Perturbação do sossego'\n",
        "'''\n",
        "df = bd.read_sql(question6, billing_project_id=\"root-micron-433123-t1\")\n",
        "print(df)"
      ],
      "metadata": {
        "colab": {
          "base_uri": "https://localhost:8080/"
        },
        "id": "0lIWPqpyFJns",
        "outputId": "965c5d14-9211-4eff-ee5f-e2213ebcf9cd"
      },
      "execution_count": null,
      "outputs": [
        {
          "output_type": "stream",
          "name": "stdout",
          "text": [
            "Downloading: 100%|\u001b[32m██████████\u001b[0m|\n",
            "   quantidade_chamado\n",
            "0               42830\n"
          ]
        }
      ]
    },
    {
      "cell_type": "markdown",
      "source": [
        "R: Foram abertos 42830 chamados deste subtipo neste dia"
      ],
      "metadata": {
        "id": "8z-E0vEWRb3C"
      }
    },
    {
      "cell_type": "markdown",
      "source": [
        "## 7. Selecione os chamados com esse subtipo que foram abertos durante os eventos contidos na tabela de eventos (Reveillon, Carnaval e Rock in Rio)."
      ],
      "metadata": {
        "id": "LWEUIO4JE0r4"
      }
    },
    {
      "cell_type": "code",
      "source": [
        "question7 = '''SELECT\n",
        "   id_chamado\n",
        "  FROM\n",
        "    datario.adm_central_atendimento_1746.chamado AS c\n",
        "    JOIN datario.turismo_fluxo_visitantes.rede_hoteleira_ocupacao_eventos AS e\n",
        "    ON DATE(c.data_inicio) BETWEEN DATE(e.data_inicial) AND DATE(e.data_final)\n",
        "  WHERE\n",
        "    e.evento IN ('Reveillon', 'Carnaval', 'Rock in Rio')\n",
        "    AND c.subtipo = 'Perturbação do sossego'\n",
        "'''\n",
        "df = bd.read_sql(question7, billing_project_id=\"root-micron-433123-t1\")\n",
        "print(df)"
      ],
      "metadata": {
        "colab": {
          "base_uri": "https://localhost:8080/"
        },
        "id": "NDnKo0_ZFJ9P",
        "outputId": "e56043c8-0e7c-46ec-881d-691033f47d54"
      },
      "execution_count": null,
      "outputs": [
        {
          "output_type": "stream",
          "name": "stdout",
          "text": [
            "Downloading: 100%|\u001b[32m██████████\u001b[0m|\n",
            "     id_chamado\n",
            "0      18078416\n",
            "1      18078336\n",
            "2      18078209\n",
            "3      18078462\n",
            "4      18079707\n",
            "...         ...\n",
            "1209   17685561\n",
            "1210   17684317\n",
            "1211   17678478\n",
            "1212   17663499\n",
            "1213   17675138\n",
            "\n",
            "[1214 rows x 1 columns]\n"
          ]
        }
      ]
    },
    {
      "cell_type": "markdown",
      "source": [
        "R: 1214 chamados"
      ],
      "metadata": {
        "id": "GVnOZnXUSNdb"
      }
    },
    {
      "cell_type": "markdown",
      "source": [
        "## 8. Quantos chamados desse subtipo foram abertos em cada evento?"
      ],
      "metadata": {
        "id": "vQl0IYKBE0vv"
      }
    },
    {
      "cell_type": "code",
      "source": [
        "question8 = '''SELECT\n",
        "    count(distinct id_chamado) as quantidade_chamados,\n",
        "    e.evento\n",
        "  FROM\n",
        "    datario.adm_central_atendimento_1746.chamado AS c\n",
        "    JOIN datario.turismo_fluxo_visitantes.rede_hoteleira_ocupacao_eventos AS e\n",
        "    ON DATE(c.data_inicio) BETWEEN DATE(e.data_inicial) AND DATE(e.data_final)\n",
        "  WHERE\n",
        "    e.evento IN ('Reveillon', 'Carnaval', 'Rock in Rio')\n",
        "    AND c.subtipo = 'Perturbação do sossego'\n",
        "  group by 2\n",
        "  order by 1 desc'''\n",
        "df = bd.read_sql(question8, billing_project_id=\"root-micron-433123-t1\")\n",
        "print(df)"
      ],
      "metadata": {
        "colab": {
          "base_uri": "https://localhost:8080/"
        },
        "id": "-kTzVjGLFKaG",
        "outputId": "5e1406c2-22bf-4021-8a08-15b7c47efbe8"
      },
      "execution_count": null,
      "outputs": [
        {
          "output_type": "stream",
          "name": "stdout",
          "text": [
            "Downloading: 100%|\u001b[32m██████████\u001b[0m|\n",
            "   quantidade_chamados       evento\n",
            "0                  834  Rock in Rio\n",
            "1                  241     Carnaval\n",
            "2                  139    Reveillon\n"
          ]
        }
      ]
    },
    {
      "cell_type": "markdown",
      "source": [
        "R: Rock in Rio: 834, Carnaval: 241, Reveillon: 139"
      ],
      "metadata": {
        "id": "GNPO4n9kSqXV"
      }
    },
    {
      "cell_type": "markdown",
      "source": [
        "## 9. Qual evento teve a maior média diária de chamados abertos desse subtipo?"
      ],
      "metadata": {
        "id": "fj2B6VT5E00h"
      }
    },
    {
      "cell_type": "code",
      "source": [
        "question9 = '''SELECT\n",
        "    distinct e.evento,\n",
        "    ROUND(SUM(COUNT(c.id_chamado)) OVER (PARTITION BY e.evento)/SUM(DATE_DIFF(e.data_final, e.data_inicial, DAY) + 1) OVER (PARTITION BY e.evento),2) AS media_diaria\n",
        "  FROM\n",
        "    datario.adm_central_atendimento_1746.chamado AS c\n",
        "    JOIN datario.turismo_fluxo_visitantes.rede_hoteleira_ocupacao_eventos AS e\n",
        "    ON DATE(c.data_inicio) BETWEEN DATE(e.data_inicial) AND DATE(e.data_final)\n",
        "  WHERE\n",
        "    c.subtipo = 'Perturbação do sossego'\n",
        "    AND e.evento IN ('Reveillon', 'Carnaval', 'Rock in Rio')\n",
        "  GROUP BY e.evento, e.data_inicial, e.data_final\n",
        "  ORDER BY 2 DESC'''\n",
        "df = bd.read_sql(question9, billing_project_id=\"root-micron-433123-t1\")\n",
        "print(df)"
      ],
      "metadata": {
        "colab": {
          "base_uri": "https://localhost:8080/"
        },
        "id": "Nl85h-nNFK23",
        "outputId": "2f8af930-f227-40e3-ac20-312dff71277f"
      },
      "execution_count": null,
      "outputs": [
        {
          "output_type": "stream",
          "name": "stdout",
          "text": [
            "Downloading: 100%|\u001b[32m██████████\u001b[0m|\n",
            "        evento  media_diaria\n",
            "0  Rock in Rio        119.14\n",
            "1     Carnaval         60.25\n",
            "2    Reveillon         46.33\n"
          ]
        }
      ]
    },
    {
      "cell_type": "markdown",
      "source": [
        "R: Rock in Rio com uma média de 119 chamados diários"
      ],
      "metadata": {
        "id": "YEnMfIoXSzrd"
      }
    },
    {
      "cell_type": "markdown",
      "source": [
        "## 10. Compare as médias diárias de chamados abertos desse subtipo durante os eventos específicos (Reveillon, Carnaval e Rock in Rio) e a média diária de chamados abertos desse subtipo considerando todo o período de 01/01/2022 até 31/12/2023."
      ],
      "metadata": {
        "id": "AW0TVTOdE030"
      }
    },
    {
      "cell_type": "code",
      "source": [
        "question10 = '''WITH eventos as (\n",
        "    SELECT\n",
        "      e.evento,\n",
        "      DATE_DIFF(e.data_final, e.data_inicial, DAY) + 1 AS dias_evento,\n",
        "      count(id_chamado) as quantidade_chamados\n",
        "    FROM\n",
        "      datario.adm_central_atendimento_1746.chamado AS c\n",
        "      JOIN datario.turismo_fluxo_visitantes.rede_hoteleira_ocupacao_eventos AS e\n",
        "      ON DATE(c.data_inicio) BETWEEN DATE(e.data_inicial) AND DATE(e.data_final)\n",
        "    WHERE\n",
        "      c.subtipo = 'Perturbação do sossego'\n",
        "      AND e.evento IN ('Reveillon', 'Carnaval', 'Rock in Rio')\n",
        "    GROUP BY e.evento, e.data_inicial, e.data_final)\n",
        "  select evento as durante, round(sum(quantidade_chamados)/sum(dias_evento),2) as media_diaria from eventos group by 1\n",
        "  UNION ALL\n",
        "  SELECT\n",
        "      '2023-12-31 a 2022-01-01',\n",
        "      ROUND((count(id_chamado)) / (DATE_DIFF('2023-12-31', '2022-01-01', DAY) + 1),2) as media_diaria\n",
        "    FROM datario.adm_central_atendimento_1746.chamado AS c\n",
        "    WHERE\n",
        "      c.subtipo = 'Perturbação do sossego'\n",
        "      and c.data_inicio BETWEEN DATE('2022-01-01') AND DATE('2023-12-31')\n",
        "  order by 2 desc'''\n",
        "df = bd.read_sql(question10, billing_project_id=\"root-micron-433123-t1\")\n",
        "print(df)"
      ],
      "metadata": {
        "colab": {
          "base_uri": "https://localhost:8080/"
        },
        "id": "30BokEPFFLUX",
        "outputId": "413d926a-24b2-4583-ae6e-fbe104f0aaae"
      },
      "execution_count": null,
      "outputs": [
        {
          "output_type": "stream",
          "name": "stdout",
          "text": [
            "Downloading: 100%|\u001b[32m██████████\u001b[0m|\n",
            "                   durante  media_diaria\n",
            "0              Rock in Rio        119.14\n",
            "1                 Carnaval         60.25\n",
            "2  2023-12-31 a 2022-01-01         58.67\n",
            "3                Reveillon         46.33\n"
          ]
        }
      ]
    },
    {
      "cell_type": "markdown",
      "source": [
        "R: Dada as médias, podemos observar que apenas no período de Reveillon a média de chamadas não superou todo o período de 01/01/2022 até 31/12/2023"
      ],
      "metadata": {
        "id": "LQXT4xerS843"
      }
    }
  ]
}